{
 "cells": [
  {
   "cell_type": "markdown",
   "metadata": {},
   "source": [
    "# Tutorial on Decorators \n",
    "--- \n",
    "\n",
    "## Why this topic ?\n",
    "\n",
    "I consider this tutorial to be useful for at least three reasons:\n",
    "1. Decorators are actively **used by third-party libraries**, like in the web-development frameworks Django, Flask e.t.c..\n",
    "2. The very core idea of a decorator, which is primirily to **extend the functionality of an implementation**, can be used in your projects.\n",
    "3. In order to understand how decorators work, you will need to **get a feeling on what is happening behind the scenes in Python**.\n",
    "\n",
    "In my opinion, **the last point is the most crucial one**. There is such an extensive growth of open-source libraries and projects that we can   \n",
    "use, that oftentimes you(we) really forget to appreciate **how** these libraries actually work. In the long run this shows up. \n",
    "\n",
    "> You will not be a able to debug, maintain or even extend the usage of your environment.   \n",
    "> I read somewhere the phrase \"**you are actually enslaved within these libraries**\". \n",
    "\n",
    "Loosely speaking, **I categorize Python development in two branches: the pure Pythonic and the reflection-based implementations**. The latter   \n",
    "incorporate usually a statically typed language, like Fortran or C/C++, in which your implementation is written and later exposed   \n",
    "to be called from the Python interpreter. There, the benefits can be enormous with type-protection and speed being usually ensured, albeit     \n",
    "your work becomes much harder despite the existence of many tools.  \n",
    "\n",
    "Coming back in the pure Pythonic branch, one should find the **equilibrium between simplicity and effectiveness**. To do so you need to understand   \n",
    "many diverse concepts ranging from plain-vanilla classes and data structures to design-patterns, architecture and testing. And this understanding   \n",
    "relies, in the end, on realizing that **everything that you see and interact in Python can be manipulated almost at will**. The latter allows you to   \n",
    "create complex but user friendly and maintainable applications, oftentimes as __effecient as necessary__, boost you workflow and   \n",
    "eventually stop being a **slave**. \n",
    "\n",
    "**Disclaimer**: Although I write (often) in the first person, I hope that you don't get intimidated. There are too many concepts that   \n",
    "I have no clue about and many more that I struggle to fully understand. \n",
    "\n",
    "> **And it is your job to speak, at some point,  in the first person and guide me through... **\n",
    "\n",
    "\n",
    "\n",
    "## Overview of this tutorial\n",
    "\n",
    "- **Motivation**: You already work with decorators\n",
    "- **Section 1**: Decorators as functions  \n",
    "- **Section 2**: Decorators as classes \n",
    "    * Decorators without arguments \n",
    "    * Decorators with arguments \n",
    "- **Section 3**: Creation of interface\n",
    "    * Why you need to consider an interface\n",
    "    * Example implementation to employ in production code\n",
    "- **Section 4**: Implementation of a cache (+questions)\n",
    " \n",
    "\n",
    "---\n"
   ]
  },
  {
   "cell_type": "code",
   "execution_count": null,
   "metadata": {},
   "outputs": [],
   "source": [
    "import functools  # A very useful library!!\n",
    "import time \n",
    "from datetime import datetime"
   ]
  },
  {
   "cell_type": "markdown",
   "metadata": {},
   "source": [
    "## Motivation: You already work with decorators\n",
    "\n",
    "Already in one of the simplest possible classes decorators might come into play  \n",
    "Here we use the @property and @classmethod decorators  \n",
    "- `@property`: 'squared' can be called now as if it was an attribute of the instance (but it is not!!)  \n",
    "- `@classmethod`: the routines that are decorated as such, are often used as a 'factory' pattern   \n",
    "\n"
   ]
  },
  {
   "cell_type": "code",
   "execution_count": null,
   "metadata": {},
   "outputs": [],
   "source": [
    "class SimpleNumber(object):\n",
    "    \"\"\"\n",
    "    A class to represent a float or an integer number\n",
    "    \n",
    "    Arguments\n",
    "    ---------\n",
    "    x: integer or float\n",
    "    \n",
    "    \"\"\"\n",
    "    def __init__(self, number):\n",
    "        if not isinstance(number, (int, float)):\n",
    "            raise TypeError(\"Wrong type given. x: {}\".format(type(number)))\n",
    "        self.number = number\n",
    "    \n",
    "    @property\n",
    "    def squared(self):\n",
    "        \"\"\"Gives you the squared of x\"\"\"\n",
    "        return self.number**2\n",
    "    \n",
    "    @staticmethod\n",
    "    def multiply_by_two(value):\n",
    "        \"\"\"Example of a staticmethod: Does not use instance attributes\"\"\"\n",
    "        return 2*value \n",
    "    \n",
    "    @classmethod\n",
    "    def from_string(cls, number_as_string, astype=float):\n",
    "        \"\"\"Construct an instance by giving a number as a string\"\"\"\n",
    "        if not isinstance(number_as_string, str):\n",
    "            raise TypeError(\"Wrong type given. x: {}\".format(type(number_as_string)))\n",
    "        else:\n",
    "            print(\"- Casting string-input to {}\".format(astype))\n",
    "        return cls(astype(number_as_string))\n",
    "    \n",
    "    def __str__(self):\n",
    "        \"\"\"Called by the 'print' function\"\"\"\n",
    "        return \"An instance of SimpleNumber with x = {}\".format(self.number)\n",
    "    \n",
    "    def __repr__(self):\n",
    "        \"\"\"Representation of the instance\"\"\"\n",
    "        return self.__str__()\n",
    "    \n",
    "# Example cases \n",
    "S1 = SimpleNumber(10)           \n",
    "S2 = SimpleNumber.from_string(\"10\", float)\n",
    "S3 = SimpleNumber.from_string(\"10\", int)"
   ]
  },
  {
   "cell_type": "markdown",
   "metadata": {},
   "source": [
    "### Remark\n",
    "At this point you might argue that this is an overkill. In fact you would say that you could include the \"string-based\" creation already   \n",
    "in the `__init__` method or overload the `__new__` one and just do the job. However, my advice is always to simplify any function call.   \n",
    "From the user's perpective it is easier to understand **many** simple functions than **one** complicated one, as long as the documentation   \n",
    "is properly posted. Additionally, not only you delegate part of the responsibility to the user but also you make your code much more extensible.\n",
    "\n",
    "Regarding the `@property`: This is crucial most of the times in terms of memory-management. For instance, assume that `x`   \n",
    "is a large matrix and you are going to need it's square only a few times at runtime. **DO NOT STORE IT AS ATTRIBUTE**.  \n",
    "Instead **mask** it as if it is an attribute. Of course, this is only the tip of the iceberg regarding properties and one could   \n",
    "create a small tutorial for them.\n",
    "\n",
    "---"
   ]
  },
  {
   "cell_type": "markdown",
   "metadata": {},
   "source": [
    "## Section 1: Decorators as functions  \n",
    "\n",
    "Previously, I have shown you that you do actually use decorators already. Here, I will describe the pattern \n",
    "that decorators invoke in their usual functional form.\n",
    "\n",
    "In principle, a `decorator` is just a function that takes an other function as an argument in order to extend   \n",
    "it's usage. If you want to be precise, a function is a callback: an object (class) that implements the `__call__`    \n",
    "build-in method. (we will discuss about it in the next section)"
   ]
  },
  {
   "cell_type": "code",
   "execution_count": null,
   "metadata": {},
   "outputs": [],
   "source": [
    "# A Decorator, in principle, is nothing but a function that takes a \n",
    "# function as an argument and returns a function\n",
    "def the_simplest_decorator(callback):\n",
    "    \"\"\"A simple decorator. Note that *args and **kwargs refer to the callback!!\"\"\"\n",
    "    def _wrapped_callback(*args, **kwargs):\n",
    "        print(\"- [Decorator]: Arguments parsed : {}\".format(args))\n",
    "        print(\"- [Decorator]: Keyword arguments: {}\".format(kwargs))\n",
    "        return callback(*args, **kwargs)\n",
    "    return _wrapped_callback"
   ]
  },
  {
   "cell_type": "markdown",
   "metadata": {},
   "source": [
    "That's it... This is a decorator that you can use as ANY other function"
   ]
  },
  {
   "cell_type": "code",
   "execution_count": null,
   "metadata": {},
   "outputs": [],
   "source": [
    "# A test function \n",
    "def add_two_numbers(x, y):\n",
    "    \"\"\"Adds two numbers\"\"\"\n",
    "    return x + y \n",
    "\n",
    "# Let's dress this function with our decorator\n",
    "add_two_numbers_decorated = the_simplest_decorator(add_two_numbers)\n",
    "\n",
    "# And let's see what is this object \n",
    "print(\"Object-type: \", type(add_two_numbers_decorated))"
   ]
  },
  {
   "cell_type": "code",
   "execution_count": null,
   "metadata": {},
   "outputs": [],
   "source": [
    "# So we can simply use it as a function \n",
    "print(\"Our result 1 + 2 = {}\".format(add_two_numbers_decorated(1,2)))"
   ]
  },
  {
   "cell_type": "markdown",
   "metadata": {},
   "source": [
    "### Everything is very clear now: without changing the function `add_two_numbers` we have managed to extend it!! \n",
    "\n",
    "But still, all this renaming from `add_two_numbers` to `add_two_numbers_decorated` is ugly and error prone. \n",
    "Instead let's just simply reassign it "
   ]
  },
  {
   "cell_type": "code",
   "execution_count": null,
   "metadata": {},
   "outputs": [],
   "source": [
    "# A test function \n",
    "def add_two_numbers(x, y):\n",
    "    \"\"\"Adds two numbers\"\"\"\n",
    "    return x + y \n",
    "\n",
    "# Let's call the decorator on it \n",
    "add_two_numbers = the_simplest_decorator(add_two_numbers)\n",
    "\n",
    "# And let's see what is this object \n",
    "print(\"Object-type: \", type(add_two_numbers))\n",
    "\n",
    "# So we can simply use it as a function \n",
    "print(\"Our result 1 + 2 = {}\".format(add_two_numbers(1,2)))"
   ]
  },
  {
   "cell_type": "markdown",
   "metadata": {},
   "source": [
    "### Much cleaner... But we can do it a bit better. This is where the `@` symbol comes into play (syntactic sugar)"
   ]
  },
  {
   "cell_type": "code",
   "execution_count": null,
   "metadata": {},
   "outputs": [],
   "source": [
    "@the_simplest_decorator\n",
    "def add_two_numbers(x, y):\n",
    "    \"\"\"Adds two numbers\"\"\"\n",
    "    return x + y\n",
    "\n",
    "# And once again we just call it\n",
    "print(\"Our result 1 + 2 = {}\".format(add_two_numbers(1,2))) "
   ]
  },
  {
   "cell_type": "markdown",
   "metadata": {},
   "source": [
    "### In fact we can even nest decorators as much as we want!!"
   ]
  },
  {
   "cell_type": "code",
   "execution_count": null,
   "metadata": {},
   "outputs": [],
   "source": [
    "def the_simplest_decorator_1(callback):\n",
    "    \"\"\"A simple decorator. Note that *args and **kwargs refer to the callback!!\"\"\"\n",
    "    def _wrapped_callback_1(*args, **kwargs):\n",
    "        print(\"- [Decorator-1]: Arguments parsed : {}\".format(args))\n",
    "        print(\"- [Decorator-1]: Keyword arguments: {}\".format(kwargs))\n",
    "        return callback(*args, **kwargs)\n",
    "    return _wrapped_callback_1\n",
    "\n",
    "def the_simplest_decorator_2(callback):\n",
    "    \"\"\"A simple decorator. Note that *args and **kwargs refer to the callback!!\"\"\"\n",
    "    def _wrapped_callback_2(*args, **kwargs):\n",
    "        print(\"- [Decorator-2]: Arguments parsed : {}\".format(args))\n",
    "        print(\"- [Decorator-2]: Keyword arguments: {}\".format(kwargs))\n",
    "        return callback(*args, **kwargs)\n",
    "    return _wrapped_callback_2\n",
    "\n",
    "# Nested decorators\n",
    "@the_simplest_decorator_1\n",
    "@the_simplest_decorator_2\n",
    "def add_two_numbers(x, y):\n",
    "    \"\"\"Adds two numbers\"\"\"\n",
    "    return x + y\n",
    "\n",
    "# And once again we just call it\n",
    "print(\"Our result 1 + 2 = {}\".format(add_two_numbers(1,2))) "
   ]
  },
  {
   "cell_type": "markdown",
   "metadata": {},
   "source": [
    "### Remarks\n",
    "\n",
    "Everything seems fine, but in fact there are some 'hidden' (solvable) issues here... The 'internal' structure \n",
    "(data-model attributes) of our function are changed. This is something that you might not want "
   ]
  },
  {
   "cell_type": "code",
   "execution_count": null,
   "metadata": {},
   "outputs": [],
   "source": [
    "def add_two_numbers_1(x, y):\n",
    "    \"\"\"Adds two numbers (no decorator)\"\"\"\n",
    "    return x + y\n",
    "\n",
    "@the_simplest_decorator_1\n",
    "def add_two_numbers_2(x, y):\n",
    "    \"\"\"Adds two numbers (with decorator)\"\"\"\n",
    "    return x + y\n",
    "\n",
    "@the_simplest_decorator_2\n",
    "@the_simplest_decorator_1\n",
    "def add_two_numbers_3(x, y):\n",
    "    \"\"\"Adds two numbers (with 2 decorators)\"\"\"\n",
    "    return x + y\n",
    "\n",
    "print(\"Not decorated function: \")\n",
    "print(\"- docstring: %s\"%add_two_numbers_1.__doc__)\n",
    "print(\"- name     : %s\"%add_two_numbers_1.__name__)\n",
    "print(\"Decorated (1) function: \")\n",
    "print(\"- docstring: %s\"%add_two_numbers_2.__doc__)\n",
    "print(\"- name     : %s\"%add_two_numbers_2.__name__)\n",
    "print(\"Decorated (2) function: \")\n",
    "print(\"- docstring: %s\"%add_two_numbers_3.__doc__)\n",
    "print(\"- name     : %s\"%add_two_numbers_3.__name__)"
   ]
  },
  {
   "cell_type": "markdown",
   "metadata": {},
   "source": [
    "### This can be a serious problem. When decorating a function you lose valuable information that you might need, for example in logging. \n",
    "\n",
    "On the bright side however, this problem is solved by the standard library, that provides what else... a decorator to do the job!"
   ]
  },
  {
   "cell_type": "code",
   "execution_count": null,
   "metadata": {},
   "outputs": [],
   "source": [
    "# This is the structure that your decorators should have in principle\n",
    "def the_simplest_decorator_3(callback):\n",
    "    \"\"\"A simple decorator. Note that *args and **kwargs refer to the callback!!\"\"\"\n",
    "    @functools.wraps(callback)\n",
    "    def _wrapped_callback_3(*args, **kwargs):\n",
    "        print(\"- [Decorator]: Arguments parsed : {}\".format(args))\n",
    "        print(\"- [Decorator]: Keyword arguments: {}\".format(kwargs))\n",
    "        return callback(*args, **kwargs)\n",
    "    return _wrapped_callback_3\n",
    "\n",
    "\n",
    "@the_simplest_decorator_3\n",
    "def add_two_numbers_4(x, y):\n",
    "    \"\"\"Adds two numbers (with decorator and functools.wraps)\"\"\"\n",
    "    return x + y\n",
    "\n",
    "print(\"Decorated function: \")\n",
    "print(\"- docstring    : %s\"%add_two_numbers_4.__doc__)\n",
    "print(\"- name         : %s\\n\"%add_two_numbers_4.__name__)\n",
    "\n",
    "# And once again we just call it\n",
    "print(\"Our result 1 + 2 = {}\\n\\n\".format(add_two_numbers_4(1,2))) "
   ]
  },
  {
   "cell_type": "markdown",
   "metadata": {},
   "source": [
    "### Short summary\n",
    "\n",
    "The decorator is nothing but a function that takes the form shown below:\n",
    "\n",
    "```python\n",
    "def decorator_name(callback):\n",
    "    \"\"\"Decorator docstring\"\"\"\n",
    "    @functools.wraps(callback)\n",
    "    def _wrapped_callback(*args, **kwargs):\n",
    "        #            ........            \n",
    "        # ... your implentation goes here ...\n",
    "        #            ........            \n",
    "        return callback(*args, **kwargs)\n",
    "    return _wrapped_callback\n",
    "```\n",
    "\n",
    "To decorator a function\n",
    "```python \n",
    "# Definition \n",
    "def original_function(*args, **kwargs):\n",
    "    pass\n",
    "\n",
    "# Decoration\n",
    "original_function = decorator_name(original_function) \n",
    "```\n",
    "\n",
    "or in a more Pythonic notation \n",
    "```python \n",
    "# Definition + Decoration \n",
    "@decorator_name\n",
    "def original_function(*args, **kwargs):\n",
    "    pass\n",
    "```\n",
    "\n",
    "Note that since the decorator is, after all, just a function, you can also decorate it creating higher-order   \n",
    "decorators that take for instance arguments. However, I find this to be easier to understand it in terms of   \n",
    "their class-representation which is the subject of the next section.\n",
    "\n",
    "---\n"
   ]
  },
  {
   "cell_type": "markdown",
   "metadata": {},
   "source": [
    "## Section 2: Decorators as classes \n",
    "\n",
    "The data-model of Python suggests that everything is an object. Let's see..."
   ]
  },
  {
   "cell_type": "code",
   "execution_count": null,
   "metadata": {},
   "outputs": [],
   "source": [
    "def simple_function(): \n",
    "    pass\n",
    "\n",
    "class SimpleClass(object): \n",
    "    pass\n",
    "\n",
    "print(\"Function 'dir': {}\\n\".format(dir(simple_function)))\n",
    "print(\"Class    'dir': {}\\n\".format(dir(SimpleClass)))"
   ]
  },
  {
   "cell_type": "markdown",
   "metadata": {},
   "source": [
    "### This means that I can use the representation of a class instead of function declaration. In fact, a function is nothing but a class that implements the `__call__` method"
   ]
  },
  {
   "cell_type": "code",
   "execution_count": null,
   "metadata": {},
   "outputs": [],
   "source": [
    "def simple_function(x, y):\n",
    "    return x + y \n",
    "\n",
    "class SimpleClass(object):\n",
    "    def __call__(self, x, y):\n",
    "        return x + y\n",
    "\n",
    "# No difference in their action \n",
    "SimpleClass()(1,2) == simple_function(1,2)"
   ]
  },
  {
   "cell_type": "markdown",
   "metadata": {},
   "source": [
    "### That said, I will transform the decorator of the previous section in this form "
   ]
  },
  {
   "cell_type": "code",
   "execution_count": null,
   "metadata": {},
   "outputs": [],
   "source": [
    "class TheSimplestDecorator(object):\n",
    "    def __init__(self, callback):\n",
    "        print(\"INFO: Decorator-class has been initialized\")\n",
    "        self.callback = callback\n",
    "        \n",
    "        # This line does the 'magic' as 'functools.wraps' decorator did before\n",
    "        functools.update_wrapper(self, callback)\n",
    "    \n",
    "    def __call__(self, *args, **kwargs):\n",
    "        print(\"- [Decorator-class]: Arguments parsed : {}\".format(args))\n",
    "        print(\"- [Decorator-class]: Keyword arguments: {}\".format(kwargs))\n",
    "        return self.callback(*args, **kwargs)\n",
    "    \n",
    "@TheSimplestDecorator\n",
    "def add_two_numbers(x, y):\n",
    "    \"\"\"Addition of two numbers\"\"\"\n",
    "    return x + y    "
   ]
  },
  {
   "cell_type": "markdown",
   "metadata": {},
   "source": [
    "### Note that the decoration happens at definition time!! Not in runtime-execution (callback)!!"
   ]
  },
  {
   "cell_type": "code",
   "execution_count": null,
   "metadata": {},
   "outputs": [],
   "source": [
    "print(\"Decorated (class-implementation) function: \")\n",
    "print(\"- docstring    : %s\"%add_two_numbers.__doc__)\n",
    "print(\"- name         : %s\\n\"%add_two_numbers.__name__)\n",
    "print(\"Our result 1 + 2 = {}\".format(add_two_numbers(1,2))) "
   ]
  },
  {
   "cell_type": "markdown",
   "metadata": {},
   "source": [
    "### Remarks\n",
    "\n",
    "Using a class-pattern to create a decorator might seem a bit too much. Indeed for many simple cases this is definitely not necessary. However,  \n",
    "the 'class' allows me to 'store' and retrieve additional information regarding the 'status' of the call!"
   ]
  },
  {
   "cell_type": "code",
   "execution_count": null,
   "metadata": {},
   "outputs": [],
   "source": [
    "class LessSimpleDecorator(object):\n",
    "    \"\"\"Same decorator as before with the difference that now I keep track \n",
    "    of the numbers that the 'decorated' function has been called!!\"\"\"\n",
    "    def __init__(self, callback):\n",
    "        print(\"INFO: Decorator-class has been initialized\")\n",
    "        self.callback = callback\n",
    "        \n",
    "        # This line does the 'magic' as 'functools.wraps' decorator did before\n",
    "        functools.update_wrapper(self, callback)\n",
    "        \n",
    "        # Counter of the function call \n",
    "        self.times_called = 0\n",
    "    \n",
    "    def __call__(self, *args, **kwargs):\n",
    "        self.times_called += 1\n",
    "        print(\"- [Decorator-class]: Arguments parsed : {}\".format(args))\n",
    "        print(\"- [Decorator-class]: Keyword arguments: {}\".format(kwargs))\n",
    "        return self.callback(*args, **kwargs)\n",
    "    \n",
    "@LessSimpleDecorator\n",
    "def add_two_numbers(x, y):\n",
    "    \"\"\"Addition of two numbers\"\"\"\n",
    "    return x + y    \n",
    "\n",
    "\n",
    "for i in range(10):\n",
    "    add_two_numbers(1,1)\n",
    "print(\"\\nNumber of times that the function has been called: %s\"%add_two_numbers.times_called)"
   ]
  },
  {
   "cell_type": "markdown",
   "metadata": {},
   "source": [
    "### So far I have discussed the decoration of plain functions. How about decorating a method of a class instead??"
   ]
  },
  {
   "cell_type": "code",
   "execution_count": null,
   "metadata": {},
   "outputs": [],
   "source": [
    "class SimpleClass(object):\n",
    "    def __init__(self, x, y):\n",
    "        self.x, self.y = x, y\n",
    "    \n",
    "    @LessSimpleDecorator\n",
    "    def addition(self):\n",
    "        return self.x + self.y \n",
    "    \n",
    "SC = SimpleClass(1,2)"
   ]
  },
  {
   "cell_type": "markdown",
   "metadata": {},
   "source": [
    "### Everything seems ok... but actually is not. \n",
    "\n",
    "The Python interpreter checks only a handful of things when translating your code into a machine language. Actually it does  \n",
    "not care about types or parsing objects, and just creates the bare-bone skeleton of you implementation. All type-checking   \n",
    "and corresponding restrictions are left at runtime-execution. This very last fact, is one of the reasons why Python is slow:  \n",
    "in statically-type languages, many things get's checked already at compile time. Asserting that your implementation fulfills   \n",
    "the restrictions at compilation-time, removes the need of cross-validation (imagine multiple if statements, switch commands and   \n",
    "bound's checking) during runtime. This is something that you can also do in Python, by working directly to the Cython layer,   \n",
    "but I will not discuss it here.  \n"
   ]
  },
  {
   "cell_type": "code",
   "execution_count": null,
   "metadata": {},
   "outputs": [],
   "source": [
    "try:\n",
    "    SC.addition()\n",
    "except TypeError as err:\n",
    "    # Uncomment if you want to see the full error-message\n",
    "    print(\"\\n\\n--> TypeError raised!!\")"
   ]
  },
  {
   "cell_type": "markdown",
   "metadata": {},
   "source": [
    "### Mmm... this had to be expected:\n",
    "\n",
    "`addition` is a method of the `SimpleClass`, thus its first argument is actually the corresponding instance!! We can overpass this problem   \n",
    "by invoking the so-called `descriptors` of the class. This is VERY technical, goes quite deep and deserves its own tutorial... "
   ]
  },
  {
   "cell_type": "code",
   "execution_count": null,
   "metadata": {},
   "outputs": [],
   "source": [
    "class NotThatSimpleDecorator(object):\n",
    "    \"\"\"Same decorator as before with the difference that now I keep track \n",
    "    of the numbers that the 'decorated' function has been called!!\"\"\"\n",
    "    def __init__(self, callback):\n",
    "        print(\"INFO: Decorator-class has been initialized\")\n",
    "        self.callback = callback\n",
    "        \n",
    "        # This line does the 'magic' as 'functools.wraps' decorator did before\n",
    "        functools.update_wrapper(self, callback)\n",
    "        \n",
    "        # Counter of the function call \n",
    "        self.times_called = 0\n",
    "    \n",
    "    def __get__(self, instance, instancetype):\n",
    "        \"\"\"With this overload we allow the decorator to act on methods of other classes\"\"\"\n",
    "        print(\"- Info: Instancetype = %s\"%instancetype)\n",
    "        print(\"- Info: Instance     = %s\"%instance) \n",
    "        return functools.partial(self.__call__, instance)\n",
    "    \n",
    "    def __call__(self, *args, **kwargs):\n",
    "        self.times_called += 1\n",
    "        print(\"- [Decorator-class]: Arguments parsed : {}\".format(args))\n",
    "        print(\"- [Decorator-class]: Keyword arguments: {}\".format(kwargs))\n",
    "        return self.callback(*args, **kwargs)\n",
    "    \n",
    "class SimpleClass(object):\n",
    "    def __init__(self, x, y):\n",
    "        self.x, self.y = x, y\n",
    "    \n",
    "    @NotThatSimpleDecorator\n",
    "    def addition(self):\n",
    "        \"\"\"An addition of the attributes\"\"\"\n",
    "        return self.x + self.y \n",
    "    \n",
    "    @NotThatSimpleDecorator\n",
    "    def addition_with_arguments(self, *args, **kwargs):\n",
    "        return self.x + self.y + sum(args) + sum(kwargs.values())\n",
    "    \n",
    "    @staticmethod\n",
    "    @NotThatSimpleDecorator\n",
    "    def addition_static(x,y):\n",
    "        \"\"\"A static example (no instance is needed!!)\"\"\"\n",
    "        return x + y \n",
    "    \n",
    "    def __str__(self):\n",
    "        return \"SimpleClass holding x = {0} and y = {1}\".format(self.x, self.y) \n",
    "    \n",
    "    def __repr__(self):\n",
    "        return self.__str__()"
   ]
  },
  {
   "cell_type": "code",
   "execution_count": null,
   "metadata": {},
   "outputs": [],
   "source": [
    "# Create an instance \n",
    "example = SimpleClass(1,2); \n",
    "print(example)\n",
    "\n",
    "# And now we can call without problems \n",
    "print(\"Method\")\n",
    "print(\"Method of class result: %s\\n\"%example.addition())\n",
    "print(\"Staticmethod\")\n",
    "print(\"Staticmethod of class result: %s\"%example.addition_static(1,2))"
   ]
  },
  {
   "cell_type": "markdown",
   "metadata": {},
   "source": [
    "### To explain a bit what is happening \n",
    "\n",
    "- Method case:\n",
    "    - First there is a call of the `__get__` method\n",
    "    - This freezed the function to a view of the instance \n",
    "    - Subsequently the `__call__` method of the decorator is called as usual\n",
    "- Staticmethod case\n",
    "    - In this case the decorator acts as in the normal function-decoration"
   ]
  },
  {
   "cell_type": "code",
   "execution_count": null,
   "metadata": {},
   "outputs": [],
   "source": [
    "# The __get__ method is called whenever you try to access the method 'addition' \n",
    "example.addition"
   ]
  },
  {
   "cell_type": "markdown",
   "metadata": {},
   "source": [
    "### As you can see, the `__get__` returns  a partially evaluated function. It is this (partial) function that we eventually call (see the arguments of the output!)"
   ]
  },
  {
   "cell_type": "code",
   "execution_count": null,
   "metadata": {},
   "outputs": [],
   "source": [
    "example.addition()  # As long as you put the parenthesis the __call__ method is employed!!"
   ]
  },
  {
   "cell_type": "markdown",
   "metadata": {},
   "source": [
    "### For completenss, I close this part discussing again the 'losing' information concept"
   ]
  },
  {
   "cell_type": "code",
   "execution_count": null,
   "metadata": {},
   "outputs": [],
   "source": [
    "# Regarding the staticmethod no problems. Everything is properly resolved\n",
    "print(\"Decorated (class-implementation) static method: \")\n",
    "print(\"- docstring    : %s\"%example.addition_static.__doc__)\n",
    "print(\"- name         : %s\\n\"%example.addition_static.__name__)\n",
    "\n",
    "# However for methods of the class things are very different (ERROR RAISED)\n",
    "print(\"Decorated (class-implementation) class-method: \")\n",
    "print(\"- docstring    : %s\"%example.addition.__doc__)      \n",
    "print(\"- name         : %s\\n\"%example.addition.__name__)  # ERROR AT THIS POINT "
   ]
  },
  {
   "cell_type": "markdown",
   "metadata": {},
   "source": [
    "### Although you have a raised exception, keep in mind that the information that you look for is never lost. It's just hidden!"
   ]
  },
  {
   "cell_type": "code",
   "execution_count": null,
   "metadata": {},
   "outputs": [],
   "source": [
    "hold_the_result_of_get = example.addition\n",
    "print(\"\\nDecorated (class-implementation) class-method: \")\n",
    "print(\"- docstring    : %s\"%hold_the_result_of_get.func.__self__.__doc__)   \n",
    "print(\"- name         : %s\\n\"%hold_the_result_of_get.func.__self__.__name__)"
   ]
  },
  {
   "cell_type": "markdown",
   "metadata": {},
   "source": [
    "Note: There are much better ways to adjust this information, but I don't want to break your balls even more."
   ]
  },
  {
   "cell_type": "markdown",
   "metadata": {},
   "source": [
    "### Of course calling a method that receives arguments is not a problem"
   ]
  },
  {
   "cell_type": "code",
   "execution_count": null,
   "metadata": {},
   "outputs": [],
   "source": [
    "example.addition_with_arguments(1,2,3, x=10, z=100)"
   ]
  },
  {
   "cell_type": "markdown",
   "metadata": {},
   "source": [
    "## - Decorators with Arguments \n",
    "\n",
    "It is quite common that we need to have a decorator that takes arguments. In continuation of our example,  \n",
    "let's assume that the want to apply the decorator and at the same time manipulate its printout message.  \n",
    "Since we have introduced the class-notation of the decorator this becomes rather easy to do, having in   \n",
    "mind that the initialization of the decorator now should not invoke the callback function, but rather   \n",
    "the arguments that we want to pass. With few modifications, our decorator looks like:"
   ]
  },
  {
   "cell_type": "code",
   "execution_count": null,
   "metadata": {},
   "outputs": [],
   "source": [
    "class DecoratorWithArguments(object):\n",
    "    \"\"\"Same decorator as before with the difference that now I keep track \n",
    "    of the numbers that the 'decorated' function has been called!!\"\"\"\n",
    "    def __init__(self, printout_prefix):\n",
    "        self.printout = printout_prefix\n",
    "  \n",
    "    def __call__(self, callback):\n",
    "        \"\"\"Note that the argument now is the target function and that you \n",
    "        return a 'wrapper' and not the result!!\"\"\"\n",
    "        @functools.wraps(callback)\n",
    "        def _wrapper(*args, **kwargs):\n",
    "            print(\"- [{0}]: Arguments passed: {1}\".format(self.printout, args))\n",
    "            print(\"- [{0}]: Keywords passed: {1}\".format(self.printout, kwargs))\n",
    "            return callback(*args, **kwargs)\n",
    "        return _wrapper\n",
    "\n",
    "    \n",
    "class SimpleClass(object):\n",
    "    def __init__(self, x, y):\n",
    "        self.x, self.y = x, y\n",
    "    \n",
    "    @DecoratorWithArguments(printout_prefix=\"title-1\")\n",
    "    def addition(self):\n",
    "        \"\"\"An addition of the attributes\"\"\"\n",
    "        return self.x + self.y \n",
    "    \n",
    "    @DecoratorWithArguments(printout_prefix=\"title-2\")\n",
    "    def addition_with_arguments(self, *args, **kwargs):\n",
    "        return self.x + self.y + sum(args) + sum(v for v in kwargs.values())\n",
    "    \n",
    "    @staticmethod\n",
    "    @DecoratorWithArguments(printout_prefix=\"title-3\")\n",
    "    def addition_static(x,y):\n",
    "        \"\"\"A static example (no instance is needed!!)\"\"\"\n",
    "        return x + y \n",
    "    \n",
    "    def __str__(self):\n",
    "        return \"SimpleClass holding x = {0} and y = {1}\".format(self.x, self.y) \n",
    "    \n",
    "    def __repr__(self):\n",
    "        return self.__str__()\n",
    "    \n",
    "    \n",
    "example = SimpleClass(1,2)\n",
    "print(\"Result simple addition: %s\"%example.addition())\n",
    "print(\"Result static addition: %s\"%example.addition_static(1,2))\n",
    "print(\"Result static addition with arguments: %s\"%example.addition_with_arguments(1,2, r=3))"
   ]
  },
  {
   "cell_type": "markdown",
   "metadata": {},
   "source": [
    "#### Note that the `__get__` descriptor is not needed in that case: after all we explicitly return the 'wrapped' function directly\n",
    "---"
   ]
  },
  {
   "cell_type": "markdown",
   "metadata": {},
   "source": [
    "## Section 3: Creation of interfaces\n",
    "\n",
    "Having introduced and explained to some extend decorators, my last section will be devoted on implementation patterns   \n",
    "that you might find useful for your codebase. By no means, my strategy should be considered as the correct one. In fact  \n",
    "there is no `correct` way of designing your architecture. \n",
    "\n",
    "My projects are based on 'modular' code structure. This means that I usually develop applications that can be used either    \n",
    "as standalone applications or can be inserted within a greater multi-purpose scheme. To do so, I found myself going into   \n",
    "the direction of interfaces. In simple words, an interface is a way to allow specification (subclassing) of a class  enforcing   \n",
    "some principles, or an API. No matter what is the corresponding implementation, for instance, I can be ensured that **any**   \n",
    "class that derives from a `BaseClass` will implement a specific method `export_to_file`. Then, decorators can be   \n",
    "used in order to expand a bit their usage or ensure the existence of other requirements, such as libraries, python-version, e.t.c..   \n",
    "\n",
    "The combination of decorators and interfaces allows you to minimize your code and force you to create concepts, which in my opinion   \n",
    "is the most important thing towards a proper development of an application. \n",
    "\n",
    "\n"
   ]
  },
  {
   "cell_type": "markdown",
   "metadata": {},
   "source": [
    "### Decorator's abstraction \n",
    "\n",
    "In the previous discussion, I have worked with a handful of decorators (that just printout something). Imagine   \n",
    "that you create 10 or 20 of them. There will be a lot of dublicate code which we can take care of as follows. "
   ]
  },
  {
   "cell_type": "code",
   "execution_count": null,
   "metadata": {},
   "outputs": [],
   "source": [
    "from abc import ABC, abstractmethod"
   ]
  },
  {
   "cell_type": "code",
   "execution_count": null,
   "metadata": {},
   "outputs": [],
   "source": [
    "class BaseDecoratorWithoutArguments(ABC):\n",
    "    \"\"\"Abstract class of any decorator that takes no arguments. \"\"\"\n",
    "    def __init__(self, callback):\n",
    "        self.callback = callback\n",
    "        \n",
    "        # This line does the 'magic' as 'functools.wraps' decorator\n",
    "        functools.update_wrapper(self, callback)\n",
    "        \n",
    "    def __get__(self, instance, instancetype):\n",
    "        \"\"\"With this overload we allow the decorator to act on methods of other classes\"\"\"\n",
    "        return functools.partial(self.__call__, instance)\n",
    "    \n",
    "    # When you put the @abstractmethod decorator in a function you enforce that \n",
    "    # all derived classes must implement this function in their body\n",
    "    @abstractmethod\n",
    "    def __call__(self, *args, **kwargs):\n",
    "        \"\"\"All decorators are enforced to implement this function\"\"\"\n",
    "        pass\n",
    "\n",
    "        \n",
    "class BaseDecoratorWithArguments(ABC):\n",
    "    \"\"\"Abstract class of any decorator that takes arguments\"\"\"    \n",
    "    def __init__(self, **decorator_arguments):\n",
    "        self.__dict__.update(decorator_arguments)\n",
    "        \n",
    "    @abstractmethod\n",
    "    def __call__(self, callback):\n",
    "        \"\"\"All decorators are enforced to implement this function\"\"\"\n",
    "        pass "
   ]
  },
  {
   "cell_type": "markdown",
   "metadata": {},
   "source": [
    "### Now all my decorators will be subclasses of those abstractions. Let's create one for each case"
   ]
  },
  {
   "cell_type": "code",
   "execution_count": null,
   "metadata": {},
   "outputs": [],
   "source": [
    "class ElapsedTimeDecorator(BaseDecoratorWithoutArguments):\n",
    "    \"\"\"Decorator to measure 1 time the execution of a callback\"\"\"\n",
    "    def __call__(self, *args, **kwargs):        \n",
    "        timestamp = datetime.now()\n",
    "        result = self.callback(*args, **kwargs)\n",
    "        print(\"- Elapsed time for running '{0}': {1}\".format(\n",
    "            self.callback.__name__, datetime.now()-timestamp))\n",
    "        return result\n",
    "    \n",
    "class ElapsedTimeDecoratorMultiple(BaseDecoratorWithArguments):\n",
    "    \"\"\"\n",
    "    Decorator to measure N times the execution of a callback\n",
    "    Initialization using 'timing_rounds' (instead of rewritting the __init__)\n",
    "    \"\"\"    \n",
    "    def __call__(self, callback):\n",
    "        @functools.wraps(callback)\n",
    "        def _wrapper(*args, **kwargs):\n",
    "            for loop in range(self.timing_rounds):\n",
    "                timestamp = datetime.now()\n",
    "                result = callback(*args, **kwargs)\n",
    "                print(\"- Elapsed time for running '{0}': {1}\".format(\n",
    "                    callback.__name__, datetime.now()-timestamp))\n",
    "            return result\n",
    "        return _wrapper\n",
    "    \n",
    "class TotalFunctionCalls(BaseDecoratorWithoutArguments):\n",
    "    \"\"\"Decorator to count how many times a callback is called. Here \n",
    "    we need to explicitly write the __init__ so that we can \n",
    "    introduce the 'counter'\"\"\"\n",
    "    def __init__(self, callback):\n",
    "        super(TotalFunctionCalls, self).__init__(callback)\n",
    "        self.count_calls = 0\n",
    "    \n",
    "    def __call__(self, *args, **kwargs):\n",
    "        self.count_calls += 1\n",
    "        return self.callback(*args, **kwargs) "
   ]
  },
  {
   "cell_type": "markdown",
   "metadata": {},
   "source": [
    "### Some trivial examples"
   ]
  },
  {
   "cell_type": "code",
   "execution_count": null,
   "metadata": {},
   "outputs": [],
   "source": [
    "print(80*\"=\")\n",
    "@ElapsedTimeDecorator\n",
    "def test1(x,y):\n",
    "    return x+y\n",
    "print(\"Result: %s\"%test1(1,2))\n",
    "print(80*\"=\")\n",
    "@ElapsedTimeDecoratorMultiple(timing_rounds=5)\n",
    "def test2(x,y, *args, **kwargs):\n",
    "    return x+y + sum(args) + sum(kwargs.values())\n",
    "print(\"Result: %s\"%test2(1,2,1,2,3, r=3))\n",
    "print(80*\"=\")\n",
    "@TotalFunctionCalls\n",
    "def function():\n",
    "    return None\n",
    "for i in range(5): function()\n",
    "print(\"Total calls of 'function': %s\"%function.count_calls)"
   ]
  },
  {
   "cell_type": "markdown",
   "metadata": {},
   "source": [
    "### Lastly, since the decorator acts at definition time, have in mind that you can dynamically employ it by so-called 'monkey-patching'"
   ]
  },
  {
   "cell_type": "code",
   "execution_count": null,
   "metadata": {},
   "outputs": [],
   "source": [
    "# A simple undecorated class \n",
    "class Person(object):\n",
    "    def __init__(self, x, y):\n",
    "        self.x, self.y = x, y\n",
    "        \n",
    "    def add(self, *args, **kwargs):\n",
    "        return self.x + self.y + sum(args) + sum(kwargs.values())\n",
    "    \n",
    "P = Person(1,2)\n",
    "print(\"[Undecorated] Result: %s\"%P.add(10, 20, value=50))\n",
    "\n",
    "# Monkey-patching \n",
    "P.add = ElapsedTimeDecoratorMultiple(timing_rounds=5)(P.add) # Note the parenthesis!!\n",
    "print(\"[Decorated] Result: %s\"%P.add(10, 20, value=50))"
   ]
  },
  {
   "cell_type": "markdown",
   "metadata": {},
   "source": [
    "----"
   ]
  },
  {
   "cell_type": "markdown",
   "metadata": {},
   "source": [
    "## Section 4: Implementation of a cache (+questions)"
   ]
  },
  {
   "cell_type": "code",
   "execution_count": null,
   "metadata": {},
   "outputs": [],
   "source": [
    "class CacheDecorator(BaseDecoratorWithoutArguments):\n",
    "    \"\"\"A simple implementation of a cache\"\"\"\n",
    "    def __init__(self, callback):\n",
    "        super(CacheDecorator, self).__init__(callback)\n",
    "        self._cache = {}\n",
    "        \n",
    "    def __call__(self, *args, **kwargs):\n",
    "        \"\"\"Implementation of the cache pattern\"\"\"\n",
    "        assert not kwargs, \"Dictionary is not hashable\"\n",
    "\n",
    "        try:\n",
    "            # Check if the '_cache' contains the requested evaluation\n",
    "            result = self._cache[tuple(args)]  \n",
    "            print(\"- Result retrieved from the cache\")\n",
    "        except KeyError as error:\n",
    "            # Explicitly call the function and store the result \n",
    "            result = self._cache[tuple(args)] = self.callback(*args, **kwargs)\n",
    "            print(\"- Result evaluated explicitly\")\n",
    "        except Exception as error:\n",
    "            raise Exception(error) \n",
    "        return result "
   ]
  },
  {
   "cell_type": "markdown",
   "metadata": {},
   "source": [
    "#### A simple yet powerful example of the cache benefits "
   ]
  },
  {
   "cell_type": "markdown",
   "metadata": {},
   "source": [
    "- No cache involved"
   ]
  },
  {
   "cell_type": "code",
   "execution_count": null,
   "metadata": {},
   "outputs": [],
   "source": [
    "def computationally_expensive_function(x, y):\n",
    "    \"\"\"Routine to represent an costly function\"\"\"\n",
    "    time.sleep(0.2) # In seconds \n",
    "    return x * y\n",
    "\n",
    "print(\"No cache implementation\")\n",
    "timestamp = datetime.now() \n",
    "computationally_expensive_function(2,1)\n",
    "computationally_expensive_function(2,1)\n",
    "computationally_expensive_function(1,2)\n",
    "computationally_expensive_function(1,2)\n",
    "computationally_expensive_function(1,1)\n",
    "computationally_expensive_function(1,1)\n",
    "computationally_expensive_function(1,1)\n",
    "computationally_expensive_function(1,1)\n",
    "computationally_expensive_function(1,1)\n",
    "print(\"--> Total elapsed time: {}\\n\".format(datetime.now()-timestamp))\n"
   ]
  },
  {
   "cell_type": "markdown",
   "metadata": {},
   "source": [
    "- Cache decorator employed"
   ]
  },
  {
   "cell_type": "code",
   "execution_count": null,
   "metadata": {},
   "outputs": [],
   "source": [
    "@CacheDecorator\n",
    "def computationally_expensive_function(x, y):\n",
    "    \"\"\"Routine to represent an costly function\"\"\"\n",
    "    time.sleep(0.2) # In seconds \n",
    "    return x * y\n",
    "\n",
    "print(\"Cache implementation\")\n",
    "timestamp = datetime.now() \n",
    "computationally_expensive_function(2,1)\n",
    "computationally_expensive_function(2,1)\n",
    "computationally_expensive_function(1,2)\n",
    "computationally_expensive_function(1,2)\n",
    "computationally_expensive_function(1,1)\n",
    "computationally_expensive_function(1,1)\n",
    "computationally_expensive_function(1,1)\n",
    "computationally_expensive_function(1,1)\n",
    "computationally_expensive_function(1,1)\n",
    "print(\"--> Total elapsed time: {}\\n\".format(datetime.now()-timestamp))"
   ]
  },
  {
   "cell_type": "markdown",
   "metadata": {},
   "source": [
    "### Remarks and Questions\n",
    "\n",
    "The cache implementation is of great usage whenever you have routines that are usually called recursively and the   \n",
    "arguments of the function repeat over time. Essentially you trade computational time with computational resources, since   \n",
    "you effectivelly store your result in an internal structure (lookup table). These kind of trade-offs between complexity and memory are of   \n",
    "significant importance and should be carefully considered whenever you design an algorithm. Note that in case of limited resources you    \n",
    "can further implement clearing-cache-strategies to reduce the memory-footprint at runtime. \n",
    "\n",
    "In order to practice on this particular example, try to answer the following without executing the code:\n",
    "```python\n",
    "@CacheDecorator\n",
    "def computationally_expensive_function(x, y):\n",
    "    \"\"\"Routine to represent an costly function\"\"\"\n",
    "    time.sleep(0.2) # In seconds \n",
    "    return x * y\n",
    "\n",
    "# Q-1: What will be the output\n",
    "computationally_expensive_function(0,0)\n",
    "\n",
    "# Q-2: What will be the output\n",
    "computationally_expensive_function([1,2],2)\n",
    "\n",
    "# Q-3: What will be the output\n",
    "computationally_expensive_function(*[1,2],2)\n",
    "\n",
    "# Q-4: What will be the output\n",
    "computationally_expensive_function(1, y=2)\n",
    "\n",
    "# Q-5: What will be the output\n",
    "computationally_expensive_function(x=1, y=2)\n",
    "```\n",
    "\n",
    "**Task**: Extend the `CacheDecorator` such that you can resolve -- when necessary and possible -- the raised issues! \n",
    "\n",
    "**Note 1**: I would suggest that if you work on these questions, formulate a concrete answer and post it in the \n",
    "issues, contact me or send me your solution to review it. \n",
    "\n",
    "**Note 2**: In case you find mistakes in the notebook raise an issue in github so that we can fix it\n",
    "\n",
    "**Note 3**: In case that you found that the notebook is too long to follow, try to estimate at which point   \n",
    "you would have prefered to end and be splitted. This is important so that we can set some guidelines for future tutorials. \n",
    "\n",
    "**Note 4**: Create a list of topics that you would like to hear or talk about. This way we make assignments so   \n",
    "that everyone prepares things that others find useful and interesting."
   ]
  },
  {
   "cell_type": "markdown",
   "metadata": {},
   "source": [
    "---"
   ]
  }
 ],
 "metadata": {
  "kernelspec": {
   "display_name": "virtuals",
   "language": "python",
   "name": "virtuals"
  },
  "language_info": {
   "codemirror_mode": {
    "name": "ipython",
    "version": 3
   },
   "file_extension": ".py",
   "mimetype": "text/x-python",
   "name": "python",
   "nbconvert_exporter": "python",
   "pygments_lexer": "ipython3",
   "version": "3.5.3"
  }
 },
 "nbformat": 4,
 "nbformat_minor": 2
}
